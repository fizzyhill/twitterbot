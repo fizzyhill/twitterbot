{
 "cells": [
  {
   "cell_type": "code",
   "execution_count": 1,
   "metadata": {
    "collapsed": true
   },
   "outputs": [],
   "source": [
    "consumer_key = \"\"\n",
    "consumer_secret = \"\"\n",
    "access_token = \"\"\n",
    "access_token_secret = \"\"\n",
    "\n",
    "from tweepy import OAuthHandler, API\n",
    "\n",
    "auth = OAuthHandler(consumer_key, consumer_secret)\n",
    "auth.set_access_token(access_token, access_token_secret)\n",
    "\n",
    "api = API(auth)"
   ]
  },
  {
   "cell_type": "code",
   "execution_count": 3,
   "metadata": {
    "collapsed": true
   },
   "outputs": [],
   "source": [
    "import feedparser"
   ]
  },
  {
   "cell_type": "code",
   "execution_count": 4,
   "metadata": {},
   "outputs": [
    {
     "name": "stdout",
     "output_type": "stream",
     "text": [
      "new story - lets tweet it: https://qz.com/1234822/inside-amazon-ceo-jeff-bezos-private-mars-conference-for-a-new-golden-age/\n",
      "our tweet: Huh. Inside Jeff Bezos’ private conference for a new “golden age” https://qz.com/1234822/inside-amazon-ceo-jeff-bezos-private-mars-conference-for-a-new-golden-age/\n",
      "--------------------\n"
     ]
    },
    {
     "ename": "KeyboardInterrupt",
     "evalue": "",
     "output_type": "error",
     "traceback": [
      "\u001b[0;31m---------------------------------------------------------------------------\u001b[0m",
      "\u001b[0;31mKeyboardInterrupt\u001b[0m                         Traceback (most recent call last)",
      "\u001b[0;32m<ipython-input-4-ea6017a7283b>\u001b[0m in \u001b[0;36m<module>\u001b[0;34m()\u001b[0m\n\u001b[1;32m    105\u001b[0m \u001b[0;34m\u001b[0m\u001b[0m\n\u001b[1;32m    106\u001b[0m \u001b[0;34m\u001b[0m\u001b[0m\n\u001b[0;32m--> 107\u001b[0;31m     \u001b[0mtime\u001b[0m\u001b[0;34m.\u001b[0m\u001b[0msleep\u001b[0m\u001b[0;34m(\u001b[0m\u001b[0;36m60\u001b[0m\u001b[0;34m)\u001b[0m\u001b[0;34m\u001b[0m\u001b[0m\n\u001b[0m",
      "\u001b[0;31mKeyboardInterrupt\u001b[0m: "
     ]
    }
   ],
   "source": [
    "import feedparser\n",
    "import random\n",
    "import time\n",
    "\n",
    "qz_rss_url = 'https://qz.com/topic/tech-and-communications/feed/'\n",
    "verge_rss_url = 'https://www.theverge.com/tech/rss/index.xml'\n",
    "wired_rss_url = 'https://www.wired.com/feed/rss'\n",
    "\n",
    "prev_tweeted_links = []\n",
    "\n",
    "insightful_things_to_say = [\n",
    "    'This is really interesting -',\n",
    "    'Great read -->',\n",
    "    'Hmmm....',\n",
    "    'Check out this article:',\n",
    "    'Wow -',\n",
    "    'Check this out.',\n",
    "    'Huh.',\n",
    "    'This.',\n",
    "    'Worth sharing -',\n",
    "    'Fascinating!',\n",
    "    'Cool story!',\n",
    "    'Interesting -',\n",
    "    'Give this some thought.',\n",
    "    'Thoughts?',\n",
    "    'This is quite cool.',\n",
    "    'Thought provoking.',\n",
    "    \"What do y'all think?\"\n",
    "]\n",
    "\n",
    "verge_feed = feedparser.parse(verge_rss_url)\n",
    "wired_feed = feedparser.parse(wired_rss_url)\n",
    "qz_feed = feedparser.parse(qz_rss_url)\n",
    "\n",
    "\n",
    "while True:\n",
    "    \n",
    "    n=random.choice([0,1,2])\n",
    "    m=random.choice(range(0,9))\n",
    "\n",
    "    if n==0:\n",
    "    \n",
    "        first_story = qz_feed['entries'][m]\n",
    "\n",
    "        link = first_story['link']\n",
    "    \n",
    "        if not link in prev_tweeted_links:\n",
    "        \n",
    "            print('new story - lets tweet it: ' + link)\n",
    "  \n",
    "            tweet_text = random.choice(insightful_things_to_say) + ' ' + first_story['title'] + ' ' + first_story['link']\n",
    "        \n",
    "            print(\"our tweet: \" + tweet_text)\n",
    "            print(\"--\"*10)\n",
    "        \n",
    "            prev_tweeted_links.append(link)\n",
    "            api.update_status(status=tweet_text)\n",
    "        \n",
    "        else:\n",
    "        \n",
    "            print(\"no new story... let's wait a little while\")\n",
    "\n",
    "    elif n==1:\n",
    "    \n",
    "        first_story = wired_feed['entries'][m]\n",
    "\n",
    "        link = first_story['link']\n",
    "    \n",
    "        if not link in prev_tweeted_links:\n",
    "        \n",
    "            print('new story - lets tweet it: ' + link)\n",
    "  \n",
    "            tweet_text = random.choice(insightful_things_to_say) + ' ' + first_story['title'] + ' ' + first_story['link']\n",
    "        \n",
    "            print(\"our tweet: \" + tweet_text)\n",
    "            print(\"--\"*10)\n",
    "        \n",
    "            prev_tweeted_links.append(link)\n",
    "            api.update_status(status=tweet_text)\n",
    "        \n",
    "        else:\n",
    "        \n",
    "            print(\"no new story... let's wait a little while\")\n",
    "            \n",
    "    else:\n",
    "        first_story = verge_feed['entries'][m]\n",
    "\n",
    "        link = first_story['link']\n",
    "    \n",
    "        if not link in prev_tweeted_links:\n",
    "        \n",
    "            print('new story - lets tweet it: ' + link)\n",
    "  \n",
    "            tweet_text = random.choice(insightful_things_to_say) + ' ' + first_story['title'] + ' ' + first_story['link']\n",
    "        \n",
    "            print(\"our tweet: \" + tweet_text)\n",
    "            print(\"--\"*10)\n",
    "        \n",
    "            prev_tweeted_links.append(link)\n",
    "            api.update_status(status=tweet_text)\n",
    "        \n",
    "        else:\n",
    "        \n",
    "            print(\"no new story... let's wait a little while\")\n",
    "            \n",
    "            \n",
    "    time.sleep(60)"
   ]
  },
  {
   "cell_type": "code",
   "execution_count": null,
   "metadata": {
    "collapsed": true
   },
   "outputs": [],
   "source": [
    "from random import choice\n",
    "from time import sleep \n",
    "\n",
    "from tweepy import Stream, StreamListener\n",
    "\n",
    "class my_version_of_a_listener(StreamListener):\n",
    "\n",
    "    def on_status(self, status):\n",
    "        \n",
    "        i=choice([0,1,2,3,4])\n",
    "        statusid=' '\n",
    "        statususerid=' '\n",
    "        if i == 0 or 3 and status.lang == 'en' and status.id is not statusid:\n",
    "            api.retweet(status.id)\n",
    "            statusid=status.id\n",
    "            print('Retweet:',status.text)\n",
    "        if i == 1 or 4 and status.lang == 'en' and status.id is not statusid:\n",
    "            api.create_favorite(status.id)\n",
    "            statusid=status.id\n",
    "            print('Like:',status.text)\n",
    "        if i == 2 and status.user.id is not api.me().id and statususerid is not status.user.id:\n",
    "            api.create_friendship(status.user.id) \n",
    "            statususerid=status.user.id\n",
    "            print('Follow:',status.user.screen_name)\n",
    "            \n",
    "        sleep(30)\n",
    "\n",
    "my_stream = Stream(auth = api.auth, listener=my_version_of_a_listener())\n",
    "\n",
    "my_stream.filter(track=['Jeff Bezos','Zuckerberg','Alphabet Inc','Elon Musk','CoinDesk',\\\n",
    "                        'Microsoft Azure','cloud computing','artificial intelligence',\\\n",
    "                       'augmented reality','female founders','driverless','pecan pie',\\\n",
    "                       'Stockholm School of Economics','Waymo','Columbia Journalism School',\\\n",
    "                       'Snap Inc','Uber','Lyft','Spotify AB'])"
   ]
  },
  {
   "cell_type": "code",
   "execution_count": null,
   "metadata": {
    "collapsed": true
   },
   "outputs": [],
   "source": []
  }
 ],
 "metadata": {
  "kernelspec": {
   "display_name": "Python 3",
   "language": "python",
   "name": "python3"
  },
  "language_info": {
   "codemirror_mode": {
    "name": "ipython",
    "version": 3
   },
   "file_extension": ".py",
   "mimetype": "text/x-python",
   "name": "python",
   "nbconvert_exporter": "python",
   "pygments_lexer": "ipython3",
   "version": "3.6.3"
  }
 },
 "nbformat": 4,
 "nbformat_minor": 2
}
